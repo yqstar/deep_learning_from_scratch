{
 "cells": [
  {
   "cell_type": "code",
   "execution_count": null,
   "metadata": {},
   "outputs": [],
   "source": [
    "import pandas as pd\n",
    "\n",
    "def get_amazon_data_dict(dataset_path):\n",
    "    data = pd.read_csv(dataset_path)\n",
    "    print('========== Start Amazon ==========')\n",
    "    n_users, n_items, n_cates = data[\"user_id\"].max(), data[\"item_id\"].max(), data[\"cate_id\"].max()\n",
    "\n",
    "    # features = [SparseFeature(\"target_item\", vocab_size=n_items + 2, embed_dim=8), SparseFeature(\"target_cate\", vocab_size=n_cates + 2, embed_dim=8), SparseFeature(\"user_id\", vocab_size=n_users + 2, embed_dim=8)]\n",
    "    # target_features = features\n",
    "    features = [SparseFeature(\"user_id\", vocab_size=n_users + 2, embed_dim=8)]\n",
    "    target_features = [SparseFeature(\"target_item\", vocab_size=n_items + 2, embed_dim=8),\n",
    "                       SparseFeature(\"target_cate\", vocab_size=n_cates + 2, embed_dim=8)]\n",
    "    history_features = [\n",
    "        SequenceFeature(\"history_item\", vocab_size=n_items + 2, embed_dim=8, pooling=\"concat\", shared_with=\"target_item\"),\n",
    "        SequenceFeature(\"history_cate\", vocab_size=n_cates + 2, embed_dim=8, pooling=\"concat\", shared_with=\"target_cate\")\n",
    "    ]\n",
    "\n",
    "    print('========== Create sequence features ==========')\n",
    "    train, val, test = create_seq_features(data, seq_feature_col=['item_id', 'cate_id'], drop_short=3)\n",
    "\n",
    "    print('========== Generate input dict ==========')\n",
    "    train = df_to_dict(train)\n",
    "    val = df_to_dict(val)\n",
    "    test = df_to_dict(test)\n",
    "\n",
    "    train_y, val_y, test_y = train[\"label\"], val[\"label\"], test[\"label\"]\n",
    "\n",
    "    del train[\"label\"]\n",
    "    del val[\"label\"]\n",
    "    del test[\"label\"]\n",
    "    train_x, val_x, test_x = train, val, test\n",
    "    return features, target_features, history_features, (train_x, train_y), (val_x, val_y), (test_x, test_y)"
   ]
  }
 ],
 "metadata": {
  "kernelspec": {
   "display_name": "base",
   "language": "python",
   "name": "python3"
  },
  "language_info": {
   "name": "python",
   "version": "3.8.-1"
  }
 },
 "nbformat": 4,
 "nbformat_minor": 2
}
