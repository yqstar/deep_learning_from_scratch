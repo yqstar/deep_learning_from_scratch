{
 "cells": [
  {
   "cell_type": "code",
   "execution_count": 1,
   "metadata": {},
   "outputs": [
    {
     "name": "stderr",
     "output_type": "stream",
     "text": [
      "/home/yqstar/anaconda3/envs/torch17_env/lib/python3.8/site-packages/pandas/core/computation/expressions.py:20: UserWarning: Pandas requires version '2.7.3' or newer of 'numexpr' (version '2.7.1' currently installed).\n",
      "  from pandas.core.computation.check import NUMEXPR_INSTALLED\n"
     ]
    }
   ],
   "source": [
    "import pandas as pd\n",
    "import torch\n",
    "from torch.utils.data import Dataset, DataLoader\n",
    "\n",
    "class CriteoDataset(Dataset):\n",
    "    def __init__(self, file_path, transform=None):\n",
    "        self.data = pd.read_csv(file_path)\n",
    "        self.transform = transform\n",
    "        self._preprocess_data()\n",
    "\n",
    "    def _preprocess_data(self):\n",
    "        # 处理缺失值\n",
    "        self.data.fillna(0, inplace=True)\n",
    "        \n",
    "        # 对分类特征进行编码\n",
    "        self.categorical_columns = [f'C{i}' for i in range(1, 27)]\n",
    "        self.numerical_columns = [f'I{i}' for i in range(1, 14)]\n",
    "        self.label_column = 'label'\n",
    "\n",
    "        for col in self.categorical_columns:\n",
    "            self.data[col] = self.data[col].astype('category').cat.codes\n",
    "\n",
    "        self.num_classes = [self.data[col].nunique() for col in self.categorical_columns]\n",
    "        \n",
    "        self.features = self.data[self.numerical_columns + self.categorical_columns]\n",
    "        self.labels = self.data[self.label_column]\n",
    "\n",
    "    def __len__(self):\n",
    "        return len(self.data)\n",
    "\n",
    "    def __getitem__(self, idx):\n",
    "        features = self.features.iloc[idx].values.astype('float32')\n",
    "        label = self.labels.iloc[idx]\n",
    "        sample = {'features': torch.tensor(features), 'label': torch.tensor(label, dtype=torch.float32)}\n",
    "        \n",
    "        if self.transform:\n",
    "            sample = self.transform(sample)\n",
    "        \n",
    "        return sample\n"
   ]
  },
  {
   "cell_type": "code",
   "execution_count": 2,
   "metadata": {},
   "outputs": [],
   "source": [
    "import torch.nn as nn\n",
    "\n",
    "class WideAndDeepModel(nn.Module):\n",
    "    def __init__(self, num_numerical_features, num_classes, embedding_dim):\n",
    "        super(WideAndDeepModel, self).__init__()\n",
    "        \n",
    "        # Wide part\n",
    "        self.wide = nn.Linear(num_numerical_features, 1)\n",
    "        \n",
    "        # Deep part\n",
    "        self.embeddings = nn.ModuleList([nn.Embedding(num, embedding_dim) for num in num_classes])\n",
    "        self.deep = nn.Sequential(\n",
    "            nn.Linear(len(num_classes) * embedding_dim + num_numerical_features, 128),\n",
    "            nn.ReLU(),\n",
    "            nn.Linear(128, 64),\n",
    "            nn.ReLU(),\n",
    "            nn.Linear(64, 32),\n",
    "            nn.ReLU(),\n",
    "            nn.Linear(32, 1)\n",
    "        )\n",
    "\n",
    "    def forward(self, x):\n",
    "        numerical_features = x[:, :13]\n",
    "        categorical_features = x[:, 13:].long()\n",
    "        \n",
    "        wide_output = self.wide(numerical_features)\n",
    "        \n",
    "        embeddings = [self.embeddings[i](categorical_features[:, i]) for i in range(categorical_features.size(1))]\n",
    "        deep_input = torch.cat(embeddings + [numerical_features], dim=1)\n",
    "        deep_output = self.deep(deep_input)\n",
    "        \n",
    "        return wide_output + deep_output\n"
   ]
  },
  {
   "cell_type": "code",
   "execution_count": 3,
   "metadata": {},
   "outputs": [],
   "source": [
    "import torch.optim as optim\n",
    "from sklearn.metrics import roc_auc_score\n",
    "\n",
    "def train_model(model, dataloader, num_epochs=10, learning_rate=0.001):\n",
    "    optimizer = optim.Adam(model.parameters(), lr=learning_rate)\n",
    "    criterion = nn.BCEWithLogitsLoss()\n",
    "\n",
    "    model.train()\n",
    "    for epoch in range(num_epochs):\n",
    "        running_loss = 0.0\n",
    "        for batch in dataloader:\n",
    "            inputs = batch['features']\n",
    "            labels = batch['label']\n",
    "            \n",
    "            optimizer.zero_grad()\n",
    "            outputs = model(inputs).squeeze()\n",
    "            loss = criterion(outputs, labels)\n",
    "            loss.backward()\n",
    "            optimizer.step()\n",
    "            \n",
    "            running_loss += loss.item()\n",
    "        print(f'Epoch [{epoch+1}/{num_epochs}], Loss: {running_loss/len(dataloader):.4f}')\n",
    "        \n",
    "def evaluate_model(model, dataloader):\n",
    "    model.eval()\n",
    "    all_labels = []\n",
    "    all_outputs = []\n",
    "    \n",
    "    with torch.no_grad():\n",
    "        for batch in dataloader:\n",
    "            inputs = batch['features']\n",
    "            labels = batch['label']\n",
    "            \n",
    "            outputs = model(inputs).squeeze()\n",
    "            all_labels.extend(labels.numpy())\n",
    "            all_outputs.extend(outputs.numpy())\n",
    "            \n",
    "    auc_score = roc_auc_score(all_labels, all_outputs)\n",
    "    print(f'AUC Score: {auc_score:.4f}')\n"
   ]
  },
  {
   "cell_type": "code",
   "execution_count": 5,
   "metadata": {},
   "outputs": [
    {
     "name": "stderr",
     "output_type": "stream",
     "text": [
      "usage: ipykernel_launcher.py [-h] --action {train,evaluate} --data_path\n",
      "                             DATA_PATH [--batch_size BATCH_SIZE]\n",
      "                             [--num_epochs NUM_EPOCHS]\n",
      "                             [--learning_rate LEARNING_RATE]\n",
      "                             [--embedding_dim EMBEDDING_DIM]\n",
      "ipykernel_launcher.py: error: the following arguments are required: --action, --data_path\n"
     ]
    },
    {
     "ename": "SystemExit",
     "evalue": "2",
     "output_type": "error",
     "traceback": [
      "An exception has occurred, use %tb to see the full traceback.\n",
      "\u001b[0;31mSystemExit\u001b[0m\u001b[0;31m:\u001b[0m 2\n"
     ]
    }
   ],
   "source": [
    "import argparse\n",
    "\n",
    "if __name__ == \"__main__\":\n",
    "    parser = argparse.ArgumentParser(description='Wide & Deep Model with PyTorch')\n",
    "    parser.add_argument('--action', type=str, required=True, choices=['train', 'evaluate'],\n",
    "                        help='Action to perform: train, evaluate')\n",
    "    parser.add_argument('--data_path', type=str, required=True, help='Path to the Criteo dataset CSV file')\n",
    "    parser.add_argument('--batch_size', type=int, default=32, help='Batch size for training/evaluation')\n",
    "    parser.add_argument('--num_epochs', type=int, default=10, help='Number of epochs for training')\n",
    "    parser.add_argument('--learning_rate', type=float, default=0.001, help='Learning rate for optimizer')\n",
    "    parser.add_argument('--embedding_dim', type=int, default=8, help='Embedding dimension for categorical features')\n",
    "    \n",
    "    args = parser.parse_args()\n",
    "\n",
    "    dataset = CriteoDataset(file_path=args.data_path)\n",
    "    dataloader = DataLoader(dataset, batch_size=args.batch_size, shuffle=True)\n",
    "    \n",
    "    num_numerical_features = len(dataset.numerical_columns)\n",
    "    model = WideAndDeepModel(num_numerical_features, dataset.num_classes, args.embedding_dim)\n",
    "    \n",
    "    if args.action == 'train':\n",
    "        train_model(model, dataloader, num_epochs=args.num_epochs, learning_rate=args.learning_rate)\n",
    "        torch.save(model.state_dict(), 'wide_and_deep_model.pth')\n",
    "    elif args.action == 'evaluate':\n",
    "        model.load_state_dict(torch.load('wide_and_deep_model.pth'))\n",
    "        evaluate_model(model, dataloader)\n"
   ]
  },
  {
   "cell_type": "code",
   "execution_count": null,
   "metadata": {},
   "outputs": [],
   "source": [
    "# 训练模型\n",
    "! python wide_and_deep.py --action train --data_path \"./data/criteo_train.csv\"\n",
    "# 评估模型\n",
    "! python your_script.py --action evaluate --data_path path_to_criteo_dataset.csv\n"
   ]
  }
 ],
 "metadata": {
  "kernelspec": {
   "display_name": "torch17_env",
   "language": "python",
   "name": "python3"
  },
  "language_info": {
   "codemirror_mode": {
    "name": "ipython",
    "version": 3
   },
   "file_extension": ".py",
   "mimetype": "text/x-python",
   "name": "python",
   "nbconvert_exporter": "python",
   "pygments_lexer": "ipython3",
   "version": "3.8.undefined"
  }
 },
 "nbformat": 4,
 "nbformat_minor": 2
}
